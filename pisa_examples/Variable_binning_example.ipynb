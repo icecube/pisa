{
 "cells": [
  {
   "cell_type": "code",
   "execution_count": 1,
   "id": "b38625dd",
   "metadata": {},
   "outputs": [
    {
     "name": "stderr",
     "output_type": "stream",
     "text": [
      "<< PISA is running in double precision (FP64) mode; numba is running on CPU (single core) >>\n"
     ]
    }
   ],
   "source": [
    "from uncertainties import unumpy as unp\n",
    "import numpy as np\n",
    "\n",
    "from pisa.core.distribution_maker import DistributionMaker\n",
    "from pisa.analysis.analysis import Analysis\n",
    "from pisa import ureg"
   ]
  },
  {
   "cell_type": "code",
   "execution_count": 2,
   "id": "5f5b7b3e",
   "metadata": {},
   "outputs": [
    {
     "name": "stdout",
     "output_type": "stream",
     "text": [
      "[ WARNING] /data/user/jweldert/miniconda3/envs/pisa/lib/python3.9/site-packages/pint/quantity.py:221: BehaviorChangeWarning: The way Pint handles NumPy operations has changed with the\n",
      "implementation of NEP 18. Unimplemented NumPy operations will now fail instead of making\n",
      "assumptions about units. Some functions, eg concat, will now return Quanties with units, where\n",
      "they returned ndarrays previously. See https://github.com/hgrecco/pint/pull/905.\n",
      "\n",
      "To hide this warning, wrap your first creation of an array Quantity with\n",
      "warnings.catch_warnings(), like the following:\n",
      "\n",
      "import numpy as np\n",
      "import warnings\n",
      "from pint import Quantity\n",
      "\n",
      "with warnings.catch_warnings():\n",
      "    warnings.simplefilter(\"ignore\")\n",
      "    Quantity([])\n",
      "\n",
      "To disable the new behavior, see\n",
      "https://www.numpy.org/neps/nep-0018-array-function-protocol.html#implementation\n",
      "\n",
      "  warnings.warn(array_function_change_msg, BehaviorChangeWarning)\n",
      "\n",
      "[ WARNING] renaming the outdated \"oppo\" flux keys in \"nue_cc\", in the future do not use those anymore\n",
      "[ WARNING] renaming the outdated \"oppo\" flux keys in \"nue_nc\", in the future do not use those anymore\n",
      "[ WARNING] renaming the outdated \"oppo\" flux keys in \"nuebar_cc\", in the future do not use those anymore\n",
      "[ WARNING] renaming the outdated \"oppo\" flux keys in \"nuebar_nc\", in the future do not use those anymore\n",
      "[ WARNING] renaming the outdated \"oppo\" flux keys in \"numu_cc\", in the future do not use those anymore\n",
      "[ WARNING] renaming the outdated \"oppo\" flux keys in \"numu_nc\", in the future do not use those anymore\n",
      "[ WARNING] renaming the outdated \"oppo\" flux keys in \"numubar_cc\", in the future do not use those anymore\n",
      "[ WARNING] renaming the outdated \"oppo\" flux keys in \"numubar_nc\", in the future do not use those anymore\n",
      "[ WARNING] renaming the outdated \"oppo\" flux keys in \"nutau_cc\", in the future do not use those anymore\n",
      "[ WARNING] renaming the outdated \"oppo\" flux keys in \"nutau_nc\", in the future do not use those anymore\n",
      "[ WARNING] renaming the outdated \"oppo\" flux keys in \"nutaubar_cc\", in the future do not use those anymore\n",
      "[ WARNING] renaming the outdated \"oppo\" flux keys in \"nutaubar_nc\", in the future do not use those anymore\n",
      "[ WARNING] renaming the outdated \"oppo\" flux keys in \"nue_cc\", in the future do not use those anymore\n",
      "[ WARNING] renaming the outdated \"oppo\" flux keys in \"nue_nc\", in the future do not use those anymore\n",
      "[ WARNING] renaming the outdated \"oppo\" flux keys in \"nuebar_cc\", in the future do not use those anymore\n",
      "[ WARNING] renaming the outdated \"oppo\" flux keys in \"nuebar_nc\", in the future do not use those anymore\n",
      "[ WARNING] renaming the outdated \"oppo\" flux keys in \"numu_cc\", in the future do not use those anymore\n",
      "[ WARNING] renaming the outdated \"oppo\" flux keys in \"numu_nc\", in the future do not use those anymore\n",
      "[ WARNING] renaming the outdated \"oppo\" flux keys in \"numubar_cc\", in the future do not use those anymore\n",
      "[ WARNING] renaming the outdated \"oppo\" flux keys in \"numubar_nc\", in the future do not use those anymore\n",
      "[ WARNING] renaming the outdated \"oppo\" flux keys in \"nutau_cc\", in the future do not use those anymore\n",
      "[ WARNING] renaming the outdated \"oppo\" flux keys in \"nutau_nc\", in the future do not use those anymore\n",
      "[ WARNING] renaming the outdated \"oppo\" flux keys in \"nutaubar_cc\", in the future do not use those anymore\n",
      "[ WARNING] renaming the outdated \"oppo\" flux keys in \"nutaubar_nc\", in the future do not use those anymore\n"
     ]
    }
   ],
   "source": [
    "test = DistributionMaker('resources/settings/pipeline/fast_example.cfg')\n",
    "test_var = DistributionMaker('resources/settings/pipeline/varbin_example.cfg')"
   ]
  },
  {
   "cell_type": "code",
   "execution_count": 8,
   "id": "792bb874",
   "metadata": {},
   "outputs": [
    {
     "name": "stdout",
     "output_type": "stream",
     "text": [
      "15.7 ms ± 113 µs per loop (mean ± std. dev. of 7 runs, 100 loops each)\n"
     ]
    }
   ],
   "source": [
    "%%timeit\n",
    "out = test.get_outputs(return_sum=True)"
   ]
  },
  {
   "cell_type": "code",
   "execution_count": 9,
   "id": "448210d8",
   "metadata": {},
   "outputs": [
    {
     "name": "stdout",
     "output_type": "stream",
     "text": [
      "33.7 ms ± 144 µs per loop (mean ± std. dev. of 7 runs, 10 loops each)\n"
     ]
    }
   ],
   "source": [
    "%%timeit\n",
    "out_var = test_var.get_outputs(return_sum=True)"
   ]
  },
  {
   "cell_type": "code",
   "execution_count": 4,
   "id": "9fb089d8",
   "metadata": {},
   "outputs": [
    {
     "data": {
      "text/plain": [
       "True"
      ]
     },
     "execution_count": 4,
     "metadata": {},
     "output_type": "execute_result"
    }
   ],
   "source": [
    "a = unp.nominal_values(out['total'].hist[:,:,0])\n",
    "b = unp.nominal_values(out_var[0]['total'].hist)\n",
    "np.all(np.isclose(a, b))"
   ]
  },
  {
   "cell_type": "code",
   "execution_count": 5,
   "id": "3d8aa8aa",
   "metadata": {},
   "outputs": [
    {
     "data": {
      "text/plain": [
       "True"
      ]
     },
     "execution_count": 5,
     "metadata": {},
     "output_type": "execute_result"
    }
   ],
   "source": [
    "a = unp.std_devs(out['total'].hist[:,:,0])\n",
    "b = unp.std_devs(out_var[0]['total'].hist)\n",
    "np.all(np.isclose(a, b))"
   ]
  },
  {
   "cell_type": "code",
   "execution_count": 6,
   "id": "f2a64f52",
   "metadata": {},
   "outputs": [
    {
     "data": {
      "text/plain": [
       "True"
      ]
     },
     "execution_count": 6,
     "metadata": {},
     "output_type": "execute_result"
    }
   ],
   "source": [
    "a = unp.nominal_values(out['total'].hist)[:,:,1]\n",
    "b = unp.nominal_values(out_var[1]['total'].hist[:,1::2]+out_var[1]['total'].hist[:,0::2])\n",
    "np.all(np.isclose(a, b))"
   ]
  },
  {
   "cell_type": "code",
   "execution_count": 7,
   "id": "24596c1f",
   "metadata": {},
   "outputs": [
    {
     "data": {
      "text/plain": [
       "True"
      ]
     },
     "execution_count": 7,
     "metadata": {},
     "output_type": "execute_result"
    }
   ],
   "source": [
    "a = unp.std_devs(out['total'].hist)[:,:,1]\n",
    "b = unp.std_devs(out_var[1]['total'].hist[:,1::2]+out_var[1]['total'].hist[:,0::2])\n",
    "np.all(np.isclose(a, b))"
   ]
  },
  {
   "cell_type": "code",
   "execution_count": null,
   "id": "5c411e02",
   "metadata": {},
   "outputs": [],
   "source": []
  },
  {
   "cell_type": "code",
   "execution_count": 10,
   "id": "bacc5038",
   "metadata": {},
   "outputs": [],
   "source": [
    "ana = Analysis()"
   ]
  },
  {
   "cell_type": "code",
   "execution_count": 11,
   "id": "42709e9a",
   "metadata": {},
   "outputs": [],
   "source": [
    "# local minimizer\n",
    "local_fit_minuit = {\n",
    "    \"method\": \"iminuit\",\n",
    "    \"method_kwargs\": {\n",
    "        \"errors\": 0.1,\n",
    "        \"precision\": 1e-14,  # default: double precision\n",
    "        \"tol\": 1e-2,  # default: 0.1\n",
    "        \"run_simplex\": False,\n",
    "        \"run_migrad\": True\n",
    "    },\n",
    "    \"local_fit_kwargs\": None\n",
    "}\n",
    "\n",
    "# octant fit for local minimizer\n",
    "fit_octant = {\n",
    "    \"method\": \"octants\",\n",
    "    \"method_kwargs\": {\n",
    "        \"angle\": \"theta23\",\n",
    "        \"inflection_point\": 45 * ureg.degrees,\n",
    "    },\n",
    "    \"local_fit_kwargs\": local_fit_minuit\n",
    "}"
   ]
  },
  {
   "cell_type": "code",
   "execution_count": 16,
   "id": "683b7f42",
   "metadata": {},
   "outputs": [],
   "source": [
    "test.params['aeff_scale'] = 0.9\n",
    "test_var.params['aeff_scale'] = 0.9"
   ]
  },
  {
   "cell_type": "code",
   "execution_count": 19,
   "id": "2b3ebae9",
   "metadata": {},
   "outputs": [
    {
     "name": "stdout",
     "output_type": "stream",
     "text": [
      "                                                 (deg)                 \n",
      " iter   funcalls    mod_chi2   | delta_index    theta23     aeff_scale \n",
      "------ ---------- ------------ + ------------ ------------ ------------\n",
      "  0        0       4.84685e+00 |  0.00000e+00  4.23000e+01  9.00000e-01\n",
      "  0        1       4.86333e+00 |  1.00679e-03  4.23000e+01  9.00000e-01\n",
      "  0        2       4.83135e+00 | -1.00679e-03  4.23000e+01  9.00000e-01\n",
      "  0        3       4.84845e+00 |  1.00679e-04  4.23000e+01  9.00000e-01\n",
      "  0        4       4.84525e+00 | -1.00679e-04  4.23000e+01  9.00000e-01\n",
      "  0        5       4.85210e+00 |  0.00000e+00  4.23436e+01  9.00000e-01\n",
      "  0        6       4.84234e+00 |  0.00000e+00  4.22560e+01  9.00000e-01\n",
      "  0        7       4.84740e+00 |  0.00000e+00  4.23049e+01  9.00000e-01\n",
      "  0        8       4.84631e+00 |  0.00000e+00  4.22951e+01  9.00000e-01\n",
      "  0        9       4.52603e+00 |  0.00000e+00  4.23000e+01  9.03041e-01\n",
      "  0        10      5.18060e+00 |  0.00000e+00  4.23000e+01  8.96962e-01\n",
      "  0        11      4.81419e+00 |  0.00000e+00  4.23000e+01  9.00304e-01\n",
      "  0        12      4.87964e+00 |  0.00000e+00  4.23000e+01  8.99696e-01\n",
      "  0        13      2.69773e-01 | -1.63777e-02  4.20071e+01  9.77785e-01\n",
      "  0        14      2.05243e-01 | -1.75730e-02  4.19851e+01  9.83531e-01\n",
      "  0        15      1.68092e-01 | -1.90771e-02  4.19574e+01  9.90775e-01\n",
      "  0        16      1.67496e-01 | -1.90332e-02  4.19574e+01  9.90775e-01\n",
      "  0        17      1.68689e-01 | -1.91209e-02  4.19574e+01  9.90775e-01\n",
      "  0        18      1.67883e-01 | -1.90771e-02  4.19597e+01  9.90775e-01\n",
      "  0        19      1.68302e-01 | -1.90771e-02  4.19551e+01  9.90775e-01\n",
      "  0        20      1.67906e-01 | -1.90771e-02  4.19574e+01  9.90812e-01\n",
      "  0        21      1.68279e-01 | -1.90771e-02  4.19574e+01  9.90737e-01\n",
      "  0        22      1.37126e-02 | -5.34043e-03  4.22070e+01  9.97001e-01\n",
      "  0        23      1.25123e-04 |  8.90636e-05  4.23028e+01  9.99463e-01\n",
      "  0        24      1.32188e-04 |  1.35015e-04  4.23028e+01  9.99463e-01\n",
      "  0        25      1.19677e-04 |  4.31120e-05  4.23028e+01  9.99463e-01\n",
      "  0        26      1.29642e-04 |  8.90636e-05  4.23053e+01  9.99463e-01\n",
      "  0        27      1.22548e-04 |  8.90636e-05  4.23004e+01  9.99463e-01\n",
      "  0        28      1.06558e-04 |  8.90636e-05  4.23028e+01  9.99508e-01\n",
      "  0        29      1.45237e-04 |  8.90636e-05  4.23028e+01  9.99419e-01\n",
      "  0        30      6.64224e-06 |  2.09746e-05  4.23003e+01  9.99876e-01\n",
      "  0        31      2.72406e-08 |  6.94004e-07  4.22996e+01  9.99998e-01\n",
      "  0        32      8.55915e-07 |  4.63848e-05  4.22996e+01  9.99998e-01\n",
      "  0        33      7.96441e-07 | -4.49968e-05  4.22996e+01  9.99998e-01\n",
      "  0        34      5.47508e-07 |  6.94004e-07  4.23018e+01  9.99998e-01\n",
      "  0        35      1.10281e-06 |  6.94004e-07  4.22974e+01  9.99998e-01\n",
      "  0        36      7.80778e-07 |  6.94004e-07  4.22996e+01  1.00004e+00\n",
      "  0        37      8.69116e-07 |  6.94004e-07  4.22996e+01  9.99953e-01\n",
      "  0        38      2.72406e-08 |  6.94004e-07  4.22996e+01  9.99998e-01\n",
      "  0        39      8.55915e-07 |  4.63848e-05  4.22996e+01  9.99998e-01\n",
      "  0        40      7.96441e-07 | -4.49968e-05  4.22996e+01  9.99998e-01\n",
      "  0        41      5.47508e-07 |  6.94004e-07  4.23018e+01  9.99998e-01\n",
      "  0        42      1.10281e-06 |  6.94004e-07  4.22974e+01  9.99998e-01\n",
      "  0        43      7.80778e-07 |  6.94004e-07  4.22996e+01  1.00004e+00\n",
      "  0        44      8.69116e-07 |  6.94004e-07  4.22996e+01  9.99953e-01\n",
      "  0        45      6.51419e-08 |  9.83216e-06  4.22996e+01  9.99998e-01\n",
      "  0        46      5.32542e-08 | -8.44416e-06  4.22996e+01  9.99998e-01\n",
      "  0        47      3.56749e-09 |  6.94004e-07  4.23001e+01  9.99998e-01\n",
      "  0        48      1.14747e-07 |  6.94004e-07  4.22992e+01  9.99998e-01\n",
      "  0        49      5.03271e-08 |  6.94004e-07  4.22996e+01  1.00001e+00\n",
      "  0        50      6.79706e-08 |  6.94004e-07  4.22996e+01  9.99989e-01\n",
      "  0        51      1.39741e-06 |  4.63848e-05  4.23018e+01  9.99998e-01\n",
      "  0        52      1.35164e-06 |  4.63848e-05  4.22996e+01  1.00004e+00\n",
      "  0        53      1.20627e-06 |  6.94004e-07  4.23018e+01  1.00004e+00\n",
      "\n",
      "\n",
      "                                                 (deg)                 \n",
      " iter   funcalls    mod_chi2   | delta_index    theta23     aeff_scale \n",
      "------ ---------- ------------ + ------------ ------------ ------------\n",
      "  0        0       1.31232e-01 |  0.00000e+00  4.77000e+01  1.00000e+00\n",
      "  0        1       1.29678e-01 |  1.00679e-03  4.77000e+01  1.00000e+00\n",
      "  0        2       1.33549e-01 | -1.00679e-03  4.77000e+01  1.00000e+00\n",
      "  0        3       1.31042e-01 |  1.00679e-04  4.77000e+01  1.00000e+00\n",
      "  0        4       1.31429e-01 | -1.00679e-04  4.77000e+01  1.00000e+00\n",
      "  0        5       1.28461e-01 |  0.00000e+00  4.77440e+01  1.00000e+00\n",
      "  0        6       1.34750e-01 |  0.00000e+00  4.76564e+01  1.00000e+00\n",
      "  0        7       1.30921e-01 |  0.00000e+00  4.77044e+01  1.00000e+00\n",
      "  0        8       1.31549e-01 |  0.00000e+00  4.76956e+01  1.00000e+00\n",
      "  0        9       1.37963e-01 |  0.00000e+00  4.77000e+01  1.00303e+00\n",
      "  0        10      1.31668e-01 |  0.00000e+00  4.77000e+01  9.96969e-01\n",
      "  0        11      1.31584e-01 |  0.00000e+00  4.77000e+01  1.00030e+00\n",
      "  0        12      1.30951e-01 |  0.00000e+00  4.77000e+01  9.99697e-01\n",
      "  0        13      1.20781e-01 |  2.55168e-03  4.78867e+01  9.98661e-01\n",
      "  0        14      1.20708e-01 |  2.75031e-03  4.79015e+01  9.98557e-01\n",
      "  0        15      1.20715e-01 |  2.79909e-03  4.79015e+01  9.98557e-01\n",
      "  0        16      1.20703e-01 |  2.70154e-03  4.79015e+01  9.98557e-01\n",
      "  0        17      1.20701e-01 |  2.75031e-03  4.79037e+01  9.98557e-01\n",
      "  0        18      1.20717e-01 |  2.75031e-03  4.78993e+01  9.98557e-01\n",
      "  0        19      1.20705e-01 |  2.75031e-03  4.79015e+01  9.98604e-01\n",
      "  0        20      1.20713e-01 |  2.75031e-03  4.79015e+01  9.98509e-01\n",
      "  0        21      1.20681e-01 |  2.60230e-03  4.79121e+01  9.98657e-01\n",
      "  0        22      1.20680e-01 |  2.61959e-03  4.79109e+01  9.98645e-01\n",
      "  0        23      1.20681e-01 |  2.66821e-03  4.79109e+01  9.98645e-01\n",
      "  0        24      1.20681e-01 |  2.57098e-03  4.79109e+01  9.98645e-01\n",
      "  0        25      1.20681e-01 |  2.61959e-03  4.79132e+01  9.98645e-01\n",
      "  0        26      1.20682e-01 |  2.61959e-03  4.79085e+01  9.98645e-01\n",
      "  0        27      1.20682e-01 |  2.61959e-03  4.79109e+01  9.98693e-01\n",
      "  0        28      1.20680e-01 |  2.61959e-03  4.79109e+01  9.98597e-01\n",
      "  0        29      1.20680e-01 |  2.61959e-03  4.79109e+01  9.98645e-01\n",
      "  0        30      1.20681e-01 |  2.66821e-03  4.79109e+01  9.98645e-01\n",
      "  0        31      1.20681e-01 |  2.57098e-03  4.79109e+01  9.98645e-01\n",
      "  0        32      1.20681e-01 |  2.61959e-03  4.79132e+01  9.98645e-01\n",
      "  0        33      1.20682e-01 |  2.61959e-03  4.79085e+01  9.98645e-01\n",
      "  0        34      1.20682e-01 |  2.61959e-03  4.79109e+01  9.98693e-01\n",
      "  0        35      1.20680e-01 |  2.61959e-03  4.79109e+01  9.98597e-01\n",
      "  0        36      1.20680e-01 |  2.62932e-03  4.79109e+01  9.98645e-01\n",
      "  0        37      1.20680e-01 |  2.60987e-03  4.79109e+01  9.98645e-01\n",
      "  0        38      1.20680e-01 |  2.61959e-03  4.79113e+01  9.98645e-01\n",
      "  0        39      1.20680e-01 |  2.61959e-03  4.79104e+01  9.98645e-01\n",
      "  0        40      1.20681e-01 |  2.61959e-03  4.79109e+01  9.98655e-01\n",
      "  0        41      1.20680e-01 |  2.61959e-03  4.79109e+01  9.98635e-01\n",
      "  0        42      1.20681e-01 |  2.66821e-03  4.79132e+01  9.98645e-01\n",
      "  0        43      1.20683e-01 |  2.66821e-03  4.79109e+01  9.98693e-01\n",
      "  0        44      1.20683e-01 |  2.61959e-03  4.79132e+01  9.98693e-01\n",
      "\n",
      "\n",
      "CPU times: user 7.4 s, sys: 23.7 ms, total: 7.42 s\n",
      "Wall time: 7.38 s\n"
     ]
    }
   ],
   "source": [
    "%%time\n",
    "result = ana.fit_recursively(\n",
    "    data_dist=out,\n",
    "    hypo_maker=test,\n",
    "    metric=\"mod_chi2\",\n",
    "    external_priors_penalty=None,\n",
    "    **fit_octant\n",
    ")"
   ]
  },
  {
   "cell_type": "code",
   "execution_count": 20,
   "id": "0bd67b06",
   "metadata": {},
   "outputs": [
    {
     "name": "stdout",
     "output_type": "stream",
     "text": [
      "                                                 (deg)                 \n",
      " iter   funcalls    mod_chi2   | delta_index    theta23     aeff_scale \n",
      "------ ---------- ------------ + ------------ ------------ ------------\n",
      "  0        0       5.13950e+00 |  0.00000e+00  4.23000e+01  9.00000e-01\n",
      "  0        1       5.15597e+00 |  1.00679e-03  4.23000e+01  9.00000e-01\n",
      "  0        2       5.12407e+00 | -1.00679e-03  4.23000e+01  9.00000e-01\n",
      "  0        3       5.14110e+00 |  1.00679e-04  4.23000e+01  9.00000e-01\n",
      "  0        4       5.13791e+00 | -1.00679e-04  4.23000e+01  9.00000e-01\n",
      "  0        5       5.15366e+00 |  0.00000e+00  4.23436e+01  9.00000e-01\n",
      "  0        6       5.12773e+00 |  0.00000e+00  4.22560e+01  9.00000e-01\n",
      "  0        7       5.14081e+00 |  0.00000e+00  4.23044e+01  9.00000e-01\n",
      "  0        8       5.13822e+00 |  0.00000e+00  4.22956e+01  9.00000e-01\n",
      "  0        9       4.79933e+00 |  0.00000e+00  4.23000e+01  9.03041e-01\n",
      "  0        10      5.49340e+00 |  0.00000e+00  4.23000e+01  8.96962e-01\n",
      "  0        11      5.10487e+00 |  0.00000e+00  4.23000e+01  9.00304e-01\n",
      "  0        12      5.17427e+00 |  0.00000e+00  4.23000e+01  8.99696e-01\n",
      "  0        13      2.89155e-01 | -1.56443e-02  4.20569e+01  9.77793e-01\n",
      "  0        14      2.22941e-01 | -1.67545e-02  4.20392e+01  9.83381e-01\n",
      "  0        15      1.83433e-01 | -1.81931e-02  4.20163e+01  9.90634e-01\n",
      "  0        16      1.82839e-01 | -1.81499e-02  4.20163e+01  9.90634e-01\n",
      "  0        17      1.84029e-01 | -1.82363e-02  4.20163e+01  9.90634e-01\n",
      "  0        18      1.83143e-01 | -1.81931e-02  4.20176e+01  9.90634e-01\n",
      "  0        19      1.83724e-01 | -1.81931e-02  4.20150e+01  9.90634e-01\n",
      "  0        20      1.83237e-01 | -1.81931e-02  4.20163e+01  9.90671e-01\n",
      "  0        21      1.83630e-01 | -1.81931e-02  4.20163e+01  9.90597e-01\n",
      "  0        22      1.53764e-02 | -4.87178e-03  4.22076e+01  9.96962e-01\n",
      "  0        23      3.36605e-04 |  5.41448e-04  4.22836e+01  9.99535e-01\n",
      "  0        24      3.58486e-04 |  5.86432e-04  4.22836e+01  9.99535e-01\n",
      "  0        25      3.16341e-04 |  4.96463e-04  4.22836e+01  9.99535e-01\n",
      "  0        26      3.17136e-04 |  5.41448e-04  4.22851e+01  9.99535e-01\n",
      "  0        27      3.58176e-04 |  5.41448e-04  4.22822e+01  9.99535e-01\n",
      "  0        28      3.19454e-04 |  5.41448e-04  4.22836e+01  9.99578e-01\n",
      "  0        29      3.55305e-04 |  5.41448e-04  4.22836e+01  9.99492e-01\n",
      "  0        30      2.21794e-05 |  1.32827e-04  4.22955e+01  9.99886e-01\n",
      "  0        31      1.70888e-07 | -7.78892e-06  4.22995e+01  1.00001e+00\n",
      "  0        32      6.26749e-07 |  3.69757e-05  4.22995e+01  1.00001e+00\n",
      "  0        33      1.31207e-06 | -5.25535e-05  4.22995e+01  1.00001e+00\n",
      "  0        34      3.69404e-07 | -7.78892e-06  4.23008e+01  1.00001e+00\n",
      "  0        35      1.59473e-06 | -7.78892e-06  4.22982e+01  1.00001e+00\n",
      "  0        36      1.30074e-06 | -7.78892e-06  4.22995e+01  1.00005e+00\n",
      "  0        37      6.36785e-07 | -7.78892e-06  4.22995e+01  9.99963e-01\n",
      "  0        38      1.70888e-07 | -7.78892e-06  4.22995e+01  1.00001e+00\n",
      "  0        39      6.26749e-07 |  3.69757e-05  4.22995e+01  1.00001e+00\n",
      "  0        40      1.31207e-06 | -5.25535e-05  4.22995e+01  1.00001e+00\n",
      "  0        41      3.69404e-07 | -7.78892e-06  4.23008e+01  1.00001e+00\n",
      "  0        42      1.59473e-06 | -7.78892e-06  4.22982e+01  1.00001e+00\n",
      "  0        43      1.30074e-06 | -7.78892e-06  4.22995e+01  1.00005e+00\n",
      "  0        44      6.36785e-07 | -7.78892e-06  4.22995e+01  9.99963e-01\n",
      "  0        45      1.34294e-07 |  1.16400e-06  4.22995e+01  1.00001e+00\n",
      "  0        46      2.71364e-07 | -1.67418e-05  4.22995e+01  1.00001e+00\n",
      "  0        47      8.07370e-08 | -7.78892e-06  4.22998e+01  1.00001e+00\n",
      "  0        48      3.25934e-07 | -7.78892e-06  4.22993e+01  1.00001e+00\n",
      "  0        49      2.69211e-07 | -7.78892e-06  4.22995e+01  1.00002e+00\n",
      "  0        50      1.36396e-07 | -7.78892e-06  4.22995e+01  9.99998e-01\n",
      "  0        51      9.03608e-07 |  3.69757e-05  4.23008e+01  1.00001e+00\n",
      "  0        52      1.51156e-06 |  3.69757e-05  4.22995e+01  1.00005e+00\n",
      "  0        53      1.36103e-06 | -7.78892e-06  4.23008e+01  1.00005e+00\n",
      "\n",
      "\n",
      "                                                 (deg)                 \n",
      " iter   funcalls    mod_chi2   | delta_index    theta23     aeff_scale \n",
      "------ ---------- ------------ + ------------ ------------ ------------\n",
      "  0        0       4.11806e-01 |  0.00000e+00  4.77000e+01  1.00000e+00\n",
      "  0        1       4.12009e-01 |  1.00679e-03  4.77000e+01  1.00000e+00\n",
      "  0        2       4.12404e-01 | -1.00679e-03  4.77000e+01  1.00000e+00\n",
      "  0        3       4.11791e-01 |  1.00679e-04  4.77000e+01  1.00000e+00\n",
      "  0        4       4.11830e-01 | -1.00679e-04  4.77000e+01  1.00000e+00\n",
      "  0        5       3.89158e-01 |  0.00000e+00  4.77440e+01  1.00000e+00\n",
      "  0        6       4.37016e-01 |  0.00000e+00  4.76564e+01  1.00000e+00\n",
      "  0        7       4.09428e-01 |  0.00000e+00  4.77044e+01  1.00000e+00\n",
      "  0        8       4.14210e-01 |  0.00000e+00  4.76956e+01  1.00000e+00\n",
      "  0        9       4.12422e-01 |  0.00000e+00  4.77000e+01  1.00303e+00\n",
      "  0        10      4.18866e-01 |  0.00000e+00  4.77000e+01  9.96969e-01\n",
      "  0        11      4.11525e-01 |  0.00000e+00  4.77000e+01  1.00030e+00\n",
      "  0        12      4.12165e-01 |  0.00000e+00  4.77000e+01  9.99697e-01\n",
      "  0        13      2.87844e-01 |  2.48493e-04  4.81232e+01  1.00127e+00\n",
      "  0        14      2.84691e-01 |  2.77263e-04  4.81740e+01  1.00141e+00\n",
      "  0        15      2.83545e-01 |  3.01914e-04  4.82179e+01  1.00154e+00\n",
      "  0        16      2.83472e-01 |  3.52892e-04  4.82179e+01  1.00154e+00\n",
      "  0        17      2.83621e-01 |  2.50936e-04  4.82179e+01  1.00154e+00\n",
      "  0        18      2.83525e-01 |  3.01914e-04  4.82192e+01  1.00154e+00\n",
      "  0        19      2.83566e-01 |  3.01914e-04  4.82165e+01  1.00154e+00\n",
      "  0        20      2.83649e-01 |  3.01914e-04  4.82179e+01  1.00159e+00\n",
      "  0        21      2.83444e-01 |  3.01914e-04  4.82179e+01  1.00149e+00\n",
      "  0        22      2.79651e-01 |  2.19769e-03  4.82499e+01  9.99064e-01\n",
      "  0        23      2.79632e-01 |  2.07519e-03  4.82479e+01  9.99224e-01\n",
      "  0        24      2.79640e-01 |  2.12627e-03  4.82479e+01  9.99224e-01\n",
      "  0        25      2.79625e-01 |  2.02411e-03  4.82479e+01  9.99224e-01\n",
      "  0        26      2.79622e-01 |  2.07519e-03  4.82496e+01  9.99224e-01\n",
      "  0        27      2.79643e-01 |  2.07519e-03  4.82461e+01  9.99224e-01\n",
      "  0        28      2.79634e-01 |  2.07519e-03  4.82479e+01  9.99274e-01\n",
      "  0        29      2.79631e-01 |  2.07519e-03  4.82479e+01  9.99174e-01\n",
      "  0        30      2.79594e-01 |  1.92793e-03  4.82543e+01  9.99144e-01\n",
      "  0        31      2.79593e-01 |  1.88889e-03  4.82560e+01  9.99123e-01\n",
      "  0        32      2.79593e-01 |  1.93978e-03  4.82560e+01  9.99123e-01\n",
      "  0        33      2.79594e-01 |  1.83800e-03  4.82560e+01  9.99123e-01\n",
      "  0        34      2.79593e-01 |  1.88889e-03  4.82578e+01  9.99123e-01\n",
      "  0        35      2.79594e-01 |  1.88889e-03  4.82543e+01  9.99123e-01\n",
      "  0        36      2.79593e-01 |  1.88889e-03  4.82560e+01  9.99172e-01\n",
      "  0        37      2.79594e-01 |  1.88889e-03  4.82560e+01  9.99073e-01\n",
      "  0        38      2.79593e-01 |  1.88889e-03  4.82560e+01  9.99123e-01\n",
      "  0        39      2.79593e-01 |  1.93978e-03  4.82560e+01  9.99123e-01\n",
      "  0        40      2.79594e-01 |  1.83800e-03  4.82560e+01  9.99123e-01\n",
      "  0        41      2.79593e-01 |  1.88889e-03  4.82578e+01  9.99123e-01\n",
      "  0        42      2.79594e-01 |  1.88889e-03  4.82543e+01  9.99123e-01\n",
      "  0        43      2.79593e-01 |  1.88889e-03  4.82560e+01  9.99172e-01\n",
      "  0        44      2.79594e-01 |  1.88889e-03  4.82560e+01  9.99073e-01\n",
      "  0        45      2.79592e-01 |  1.89907e-03  4.82560e+01  9.99123e-01\n",
      "  0        46      2.79593e-01 |  1.87871e-03  4.82560e+01  9.99123e-01\n",
      "  0        47      2.79592e-01 |  1.88889e-03  4.82564e+01  9.99123e-01\n",
      "  0        48      2.79593e-01 |  1.88889e-03  4.82557e+01  9.99123e-01\n",
      "  0        49      2.79592e-01 |  1.88889e-03  4.82560e+01  9.99133e-01\n",
      "  0        50      2.79593e-01 |  1.88889e-03  4.82560e+01  9.99113e-01\n",
      "  0        51      2.79594e-01 |  1.93978e-03  4.82578e+01  9.99123e-01\n",
      "  0        52      2.79594e-01 |  1.93978e-03  4.82560e+01  9.99172e-01\n",
      "  0        53      2.79594e-01 |  1.88889e-03  4.82578e+01  9.99172e-01\n"
     ]
    },
    {
     "name": "stdout",
     "output_type": "stream",
     "text": [
      "\n",
      "\n",
      "CPU times: user 12.2 s, sys: 42.9 ms, total: 12.3 s\n",
      "Wall time: 12.2 s\n"
     ]
    }
   ],
   "source": [
    "%%time\n",
    "result_var = ana.fit_recursively(\n",
    "    data_dist=out_var,\n",
    "    hypo_maker=test_var,\n",
    "    metric=\"mod_chi2\",\n",
    "    external_priors_penalty=None,\n",
    "    **fit_octant\n",
    ")"
   ]
  },
  {
   "cell_type": "code",
   "execution_count": null,
   "id": "c4d712ab",
   "metadata": {},
   "outputs": [],
   "source": []
  }
 ],
 "metadata": {
  "kernelspec": {
   "display_name": "Python 3 (ipykernel)",
   "language": "python",
   "name": "python3"
  },
  "language_info": {
   "codemirror_mode": {
    "name": "ipython",
    "version": 3
   },
   "file_extension": ".py",
   "mimetype": "text/x-python",
   "name": "python",
   "nbconvert_exporter": "python",
   "pygments_lexer": "ipython3",
   "version": "3.9.16"
  }
 },
 "nbformat": 4,
 "nbformat_minor": 5
}
