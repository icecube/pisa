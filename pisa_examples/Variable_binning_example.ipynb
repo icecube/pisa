{
 "cells": [
  {
   "cell_type": "code",
   "execution_count": null,
   "id": "b38625dd",
   "metadata": {},
   "outputs": [],
   "source": [
    "from uncertainties import unumpy as unp\n",
    "import numpy as np\n",
    "from matplotlib import pyplot as plt\n",
    "\n",
    "from pisa.core.distribution_maker import DistributionMaker\n",
    "from pisa.analysis.analysis import Analysis\n",
    "from pisa import ureg"
   ]
  },
  {
   "cell_type": "markdown",
   "id": "14f250ea",
   "metadata": {},
   "source": [
    "Let's load two distribution makers: one with the \"classical\" MultiDimBinning (test) and one with the variable binning (test_var). The test_var uses different energy and coszen binnings for different PID bins."
   ]
  },
  {
   "cell_type": "code",
   "execution_count": null,
   "id": "5f5b7b3e",
   "metadata": {},
   "outputs": [],
   "source": [
    "test = DistributionMaker('resources/settings/pipeline/fast_example.cfg', profile=True)\n",
    "test_var = DistributionMaker('resources/settings/pipeline/varbin_example.cfg', profile=True)"
   ]
  },
  {
   "cell_type": "markdown",
   "id": "b4bd7434",
   "metadata": {},
   "source": [
    "Getting the output of the distribution maker works in the same way for both. The difference is that \"out\" will be a MapSet, while \"out_var\" will be a list of MapSets. Get outputs several times to build up profiling statistics."
   ]
  },
  {
   "cell_type": "code",
   "execution_count": 3,
   "id": "792bb874",
   "metadata": {},
   "outputs": [],
   "source": [
    "for i in range(100):\n",
    "    out = test.get_outputs(return_sum=True)\n",
    "    out_var = test_var.get_outputs(return_sum=True)"
   ]
  },
  {
   "cell_type": "markdown",
   "id": "97e25e7b",
   "metadata": {},
   "source": [
    "Let's look at the profiling output. Calculating the outputs with the variable binning should be slower due to the larger total number of bins and some overhead due to the splitting of the event sample."
   ]
  },
  {
   "cell_type": "code",
   "execution_count": 4,
   "id": "3e2dd7c9",
   "metadata": {},
   "outputs": [
    {
     "name": "stdout",
     "output_type": "stream",
     "text": [
      "Pipeline: neutrinos\n",
      "- setup:        Total time (s): 0.037, n calls: 1\n",
      "- run:          Total time (s): 0.948, n calls: 100, time/call (s): mean 0.009, max. 0.375, min. 0.005\n",
      "- get_outputs:  Total time (s): 2.373, n calls: 100, time/call (s): mean 0.024, max. 0.386, min. 0.010\n",
      "Individual services:\n",
      "data simple_data_loader\n",
      "- setup:    Total time (s): 0.002, n calls: 1\n",
      "- compute:  Total time (s): +0.000, n calls: 1\n",
      "- apply:    Total time (s): 0.015, n calls: 100, time/call (s): mean +0.000, max. +0.000, min. +0.000\n",
      "flux barr_simple\n",
      "- setup:    Total time (s): +0.000, n calls: 1\n",
      "- compute:  Total time (s): 0.001, n calls: 1\n",
      "- apply:    Total time (s): +0.000, n calls: 100, time/call (s): mean +0.000, max. +0.000, min. +0.000\n",
      "osc prob3\n",
      "- setup:    Total time (s): 0.032, n calls: 1\n",
      "- compute:  Total time (s): 0.109, n calls: 1\n",
      "- apply:    Total time (s): 0.276, n calls: 100, time/call (s): mean 0.003, max. 0.251, min. +0.000\n",
      "aeff aeff\n",
      "- setup:    Total time (s): +0.000, n calls: 1\n",
      "- compute:  Total time (s): +0.000, n calls: 1\n",
      "- apply:    Total time (s): 0.036, n calls: 100, time/call (s): mean +0.000, max. +0.000, min. +0.000\n",
      "utils hist\n",
      "- setup:    Total time (s): +0.000, n calls: 1\n",
      "- compute:  Total time (s): +0.000, n calls: 1\n",
      "- apply:    Total time (s): 0.342, n calls: 100, time/call (s): mean 0.003, max. 0.005, min. 0.003\n"
     ]
    }
   ],
   "source": [
    "test.report_profile()"
   ]
  },
  {
   "cell_type": "code",
   "execution_count": 5,
   "id": "e7199aaf",
   "metadata": {},
   "outputs": [
    {
     "name": "stdout",
     "output_type": "stream",
     "text": [
      "Pipeline: neutrinos\n",
      "- setup:        Total time (s): 0.015, n calls: 1\n",
      "- run:          Total time (s): 0.311, n calls: 100, time/call (s): mean 0.003, max. 0.086, min. 0.002\n",
      "- get_outputs:  Total time (s): 5.453, n calls: 100, time/call (s): mean 0.055, max. 0.234, min. 0.035\n",
      "Individual services:\n",
      "data simple_data_loader\n",
      "- setup:    Total time (s): 0.002, n calls: 1\n",
      "- compute:  Total time (s): +0.000, n calls: 1\n",
      "- apply:    Total time (s): 0.014, n calls: 100, time/call (s): mean +0.000, max. +0.000, min. +0.000\n",
      "flux barr_simple\n",
      "- setup:    Total time (s): +0.000, n calls: 1\n",
      "- compute:  Total time (s): 0.001, n calls: 1\n",
      "- apply:    Total time (s): +0.000, n calls: 100, time/call (s): mean +0.000, max. +0.000, min. +0.000\n",
      "osc prob3\n",
      "- setup:    Total time (s): 0.009, n calls: 1\n",
      "- compute:  Total time (s): 0.070, n calls: 1\n",
      "- apply:    Total time (s): 0.035, n calls: 100, time/call (s): mean +0.000, max. 0.012, min. +0.000\n",
      "aeff aeff\n",
      "- setup:    Total time (s): +0.000, n calls: 1\n",
      "- compute:  Total time (s): +0.000, n calls: 1\n",
      "- apply:    Total time (s): 0.035, n calls: 100, time/call (s): mean +0.000, max. +0.000, min. +0.000\n"
     ]
    }
   ],
   "source": [
    "test_var.report_profile()"
   ]
  },
  {
   "cell_type": "markdown",
   "id": "b1ae2170",
   "metadata": {},
   "source": [
    "For the first PID bin the outputs should be identical. "
   ]
  },
  {
   "cell_type": "code",
   "execution_count": 6,
   "id": "9fb089d8",
   "metadata": {},
   "outputs": [
    {
     "data": {
      "text/plain": [
       "True"
      ]
     },
     "execution_count": 6,
     "metadata": {},
     "output_type": "execute_result"
    }
   ],
   "source": [
    "a = unp.nominal_values(out['total'].hist[:,:,0])\n",
    "b = unp.nominal_values(out_var[0]['total'].hist)\n",
    "np.all(np.isclose(a, b))"
   ]
  },
  {
   "cell_type": "code",
   "execution_count": 7,
   "id": "3d8aa8aa",
   "metadata": {},
   "outputs": [
    {
     "data": {
      "text/plain": [
       "True"
      ]
     },
     "execution_count": 7,
     "metadata": {},
     "output_type": "execute_result"
    }
   ],
   "source": [
    "a = unp.std_devs(out['total'].hist[:,:,0])\n",
    "b = unp.std_devs(out_var[0]['total'].hist)\n",
    "np.all(np.isclose(a, b))"
   ]
  },
  {
   "cell_type": "markdown",
   "id": "bd1d79fd",
   "metadata": {},
   "source": [
    "For the second PID bin, since we use twice as many coszen bins for \"out_var\", we have to add up every two bins in the coszen dim to get the same binning as for \"out\"."
   ]
  },
  {
   "cell_type": "code",
   "execution_count": 8,
   "id": "f2a64f52",
   "metadata": {},
   "outputs": [
    {
     "data": {
      "text/plain": [
       "True"
      ]
     },
     "execution_count": 8,
     "metadata": {},
     "output_type": "execute_result"
    }
   ],
   "source": [
    "a = unp.nominal_values(out['total'].hist)[:,:,1]\n",
    "b = unp.nominal_values(out_var[1]['total'].hist[:,1::2]+out_var[1]['total'].hist[:,0::2])\n",
    "np.all(np.isclose(a, b))"
   ]
  },
  {
   "cell_type": "code",
   "execution_count": 9,
   "id": "24596c1f",
   "metadata": {},
   "outputs": [
    {
     "data": {
      "text/plain": [
       "True"
      ]
     },
     "execution_count": 9,
     "metadata": {},
     "output_type": "execute_result"
    }
   ],
   "source": [
    "a = unp.std_devs(out['total'].hist)[:,:,1]\n",
    "b = unp.std_devs(out_var[1]['total'].hist[:,1::2]+out_var[1]['total'].hist[:,0::2])\n",
    "np.all(np.isclose(a, b))"
   ]
  },
  {
   "cell_type": "markdown",
   "id": "386d048d",
   "metadata": {},
   "source": [
    "Check if an Asimov fit that is not started at the truth, returns to it."
   ]
  },
  {
   "cell_type": "code",
   "execution_count": 10,
   "id": "bacc5038",
   "metadata": {},
   "outputs": [],
   "source": [
    "ana = Analysis()"
   ]
  },
  {
   "cell_type": "code",
   "execution_count": 11,
   "id": "42709e9a",
   "metadata": {},
   "outputs": [],
   "source": [
    "# local minimizer\n",
    "local_fit_minuit = {\n",
    "    \"method\": \"iminuit\",\n",
    "    \"method_kwargs\": {\n",
    "        \"errors\": 0.1,\n",
    "        \"precision\": 1e-14,  # default: double precision\n",
    "        \"tol\": 1e-2,  # default: 0.1\n",
    "        \"run_simplex\": False,\n",
    "        \"run_migrad\": True\n",
    "    },\n",
    "    \"local_fit_kwargs\": None\n",
    "}\n",
    "\n",
    "# octant fit for local minimizer\n",
    "fit_octant = {\n",
    "    \"method\": \"octants\",\n",
    "    \"method_kwargs\": {\n",
    "        \"angle\": \"theta23\",\n",
    "        \"inflection_point\": 45 * ureg.degrees,\n",
    "    },\n",
    "    \"local_fit_kwargs\": local_fit_minuit\n",
    "}"
   ]
  },
  {
   "cell_type": "code",
   "execution_count": 12,
   "id": "683b7f42",
   "metadata": {},
   "outputs": [],
   "source": [
    "test.params['aeff_scale'] = 0.9\n",
    "test_var.params['aeff_scale'] = 0.9"
   ]
  },
  {
   "cell_type": "code",
   "execution_count": null,
   "id": "2b3ebae9",
   "metadata": {},
   "outputs": [],
   "source": [
    "%%time\n",
    "result = ana.fit_recursively(\n",
    "    data_dist=out,\n",
    "    hypo_maker=test,\n",
    "    metric=\"mod_chi2\",\n",
    "    external_priors_penalty=None,\n",
    "    **fit_octant\n",
    ")"
   ]
  },
  {
   "cell_type": "code",
   "execution_count": null,
   "id": "0bd67b06",
   "metadata": {},
   "outputs": [],
   "source": [
    "%%time\n",
    "result_var = ana.fit_recursively(\n",
    "    data_dist=out_var,\n",
    "    hypo_maker=test_var,\n",
    "    metric=\"mod_chi2\",\n",
    "    external_priors_penalty=None,\n",
    "    **fit_octant\n",
    ")"
   ]
  },
  {
   "cell_type": "markdown",
   "id": "add56700",
   "metadata": {},
   "source": [
    "Fit an N=10 pseudoexperiment ensemble and check if we fit the true parameter values on average (except for aeff which will be biased to higher values because of the chi2 metric)."
   ]
  },
  {
   "cell_type": "code",
   "execution_count": null,
   "id": "f0c949e2",
   "metadata": {
    "scrolled": true
   },
   "outputs": [],
   "source": [
    "results = []\n",
    "for i in range(10):\n",
    "    PE = [d.fluctuate(method=\"poisson\", random_state=i) for d in out_var]\n",
    "    \n",
    "    result_var = ana.fit_recursively(\n",
    "        data_dist=PE,\n",
    "        hypo_maker=test_var,\n",
    "        metric=\"mod_chi2\",\n",
    "        external_priors_penalty=None,\n",
    "        **fit_octant\n",
    "    )\n",
    "    \n",
    "    results.append(result_var.params.free)"
   ]
  },
  {
   "cell_type": "code",
   "execution_count": 16,
   "id": "ab5c23a2",
   "metadata": {},
   "outputs": [
    {
     "data": {
      "text/plain": [
       "Text(0.5, 0, 'Aeff scale')"
      ]
     },
     "execution_count": 16,
     "metadata": {},
     "output_type": "execute_result"
    },
    {
     "data": {
      "image/png": "[encoded data removed]",
      "text/plain": [
       "<Figure size 1500x500 with 3 Axes>"
      ]
     },
     "metadata": {},
     "output_type": "display_data"
    }
   ],
   "source": [
    "plt.figure(figsize=(15,5))\n",
    "\n",
    "plt.subplot(131)\n",
    "plt.hist([p.delta_index.m for p in results])\n",
    "plt.axvline(results[0].delta_index.nominal_value.m, color='red')\n",
    "plt.xlabel(\"spectral index delta\")\n",
    "\n",
    "plt.subplot(132)\n",
    "plt.hist([p.theta23.m for p in results])\n",
    "plt.axvline(results[0].theta23.nominal_value.m, color='red')\n",
    "plt.xlabel(\"theta23 (deg)\")\n",
    "\n",
    "plt.subplot(133)\n",
    "plt.hist([p.aeff_scale.m for p in results])\n",
    "plt.axvline(results[0].aeff_scale.nominal_value.m, color='red')\n",
    "plt.xlabel(\"Aeff scale\")"
   ]
  }
 ],
 "metadata": {
  "kernelspec": {
   "display_name": "Python 3 (ipykernel)",
   "language": "python",
   "name": "python3"
  },
  "language_info": {
   "codemirror_mode": {
    "name": "ipython",
    "version": 3
   },
   "file_extension": ".py",
   "mimetype": "text/x-python",
   "name": "python",
   "nbconvert_exporter": "python",
   "pygments_lexer": "ipython3",
   "version": "3.10.16"
  }
 },
 "nbformat": 4,
 "nbformat_minor": 5
}
