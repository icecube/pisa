{
 "cells": [
  {
   "cell_type": "markdown",
   "metadata": {},
   "source": [
    "### Example script to extract event wise information as a array from `DistributionMaker()`"
   ]
  },
  {
   "cell_type": "markdown",
   "metadata": {},
   "source": [
    "Import the necessary dependencies and functions from PISA"
   ]
  },
  {
   "cell_type": "code",
   "execution_count": 1,
   "metadata": {},
   "outputs": [
    {
     "name": "stderr",
     "output_type": "stream",
     "text": [
      "<< PISA is running in double precision (FP64) mode; numba is running on CPU (single core) >>\n"
     ]
    }
   ],
   "source": [
    "import os, sys, collections\n",
    "import numpy as np\n",
    "from uncertainties import unumpy as unp\n",
    "import matplotlib.pyplot as plt\n",
    "import copy\n",
    "import pisa\n",
    "from pisa.core.distribution_maker import DistributionMaker\n",
    "from pisa.core.pipeline import Pipeline\n",
    "from pisa.analysis.analysis import Analysis\n",
    "from pisa import FTYPE, ureg\n",
    "\n",
    "%matplotlib inline"
   ]
  },
  {
   "cell_type": "markdown",
   "metadata": {},
   "source": [
    "## Model\n",
    "We can now instantiate the `model` (given our configs) using a  `Pipeline` in a `DistributionMaker`corresponds to neutrinos."
   ]
  },
  {
   "cell_type": "code",
   "execution_count": 2,
   "metadata": {},
   "outputs": [],
   "source": [
    "model = DistributionMaker([\"settings/pipeline/IceCube_3y_neutrinos.cfg\"])"
   ]
  },
  {
   "cell_type": "markdown",
   "metadata": {},
   "source": [
    "The neutrino pipline consist of the following stages\n",
    "- csv_loader/data_loader - Loads the data/MC\n",
    "- honda_ip - Applying flux model\n",
    "- barr_simple - Applying flux uncertainities\n",
    "- prob3 - Applying probability of neutrino oscillation \n",
    "- aeff - Livetime of the detector and the normalization of neutrino events\n",
    "- hist - Converts events into histogram\n",
    "- hypersurface - Handles nuisance parameters related to detector"
   ]
  },
  {
   "cell_type": "code",
   "execution_count": 5,
   "metadata": {},
   "outputs": [
    {
     "data": {
      "text/html": [
       "<table>\n",
       "<thead>\n",
       "<tr><th style=\"text-align: right;\">  stage number</th><th style=\"text-align: center;\">    name     </th><th style=\"text-align: center;\"> calc_mode </th><th style=\"text-align: center;\"> apply_mode </th><th style=\"text-align: center;\"> has setup </th><th style=\"text-align: center;\"> has compute </th><th style=\"text-align: center;\"> has apply </th><th style=\"text-align: center;\"> # fixed params </th><th style=\"text-align: center;\"> # free params </th></tr>\n",
       "</thead>\n",
       "<tbody>\n",
       "<tr><td style=\"text-align: right;\">             0</td><td style=\"text-align: center;\"> csv_loader  </td><td style=\"text-align: center;\">  events   </td><td style=\"text-align: center;\">   events   </td><td style=\"text-align: center;\">   True    </td><td style=\"text-align: center;\">    False    </td><td style=\"text-align: center;\">   True    </td><td style=\"text-align: center;\">       0        </td><td style=\"text-align: center;\">       0       </td></tr>\n",
       "<tr><td style=\"text-align: right;\">             1</td><td style=\"text-align: center;\">  honda_ip   </td><td style=\"text-align: center;\">      &quot;true_allsky_fine&quot;:\n",
       "200 (true_energy) x 200 (true_coszen)      </td><td style=\"text-align: center;\">   events   </td><td style=\"text-align: center;\">   True    </td><td style=\"text-align: center;\">    True     </td><td style=\"text-align: center;\">   False   </td><td style=\"text-align: center;\">       1        </td><td style=\"text-align: center;\">       0       </td></tr>\n",
       "<tr><td style=\"text-align: right;\">             2</td><td style=\"text-align: center;\"> barr_simple </td><td style=\"text-align: center;\">      &quot;true_allsky_fine&quot;:\n",
       "200 (true_energy) x 200 (true_coszen)      </td><td style=\"text-align: center;\">   events   </td><td style=\"text-align: center;\">   True    </td><td style=\"text-align: center;\">    True     </td><td style=\"text-align: center;\">   False   </td><td style=\"text-align: center;\">       1        </td><td style=\"text-align: center;\">       4       </td></tr>\n",
       "<tr><td style=\"text-align: right;\">             3</td><td style=\"text-align: center;\">    prob3    </td><td style=\"text-align: center;\">      &quot;true_allsky_fine&quot;:\n",
       "200 (true_energy) x 200 (true_coszen)      </td><td style=\"text-align: center;\">   events   </td><td style=\"text-align: center;\">   True    </td><td style=\"text-align: center;\">    True     </td><td style=\"text-align: center;\">   True    </td><td style=\"text-align: center;\">       9        </td><td style=\"text-align: center;\">       3       </td></tr>\n",
       "<tr><td style=\"text-align: right;\">             4</td><td style=\"text-align: center;\">    aeff     </td><td style=\"text-align: center;\">  events   </td><td style=\"text-align: center;\">   events   </td><td style=\"text-align: center;\">   False   </td><td style=\"text-align: center;\">    False    </td><td style=\"text-align: center;\">   True    </td><td style=\"text-align: center;\">       2        </td><td style=\"text-align: center;\">       3       </td></tr>\n",
       "<tr><td style=\"text-align: right;\">             5</td><td style=\"text-align: center;\">    hist     </td><td style=\"text-align: center;\">  events   </td><td style=\"text-align: center;\">      &quot;dragon_datarelease&quot;:\n",
       "8 (reco_energy) x 8 (reco_coszen) x 2 (pid)       </td><td style=\"text-align: center;\">   True    </td><td style=\"text-align: center;\">    False    </td><td style=\"text-align: center;\">   True    </td><td style=\"text-align: center;\">       0        </td><td style=\"text-align: center;\">       0       </td></tr>\n",
       "<tr><td style=\"text-align: right;\">             6</td><td style=\"text-align: center;\">hypersurfaces</td><td style=\"text-align: center;\">      &quot;dragon_datarelease&quot;:\n",
       "8 (reco_energy) x 8 (reco_coszen) x 2 (pid)      </td><td style=\"text-align: center;\">      &quot;dragon_datarelease&quot;:\n",
       "8 (reco_energy) x 8 (reco_coszen) x 2 (pid)       </td><td style=\"text-align: center;\">   True    </td><td style=\"text-align: center;\">    True     </td><td style=\"text-align: center;\">   True    </td><td style=\"text-align: center;\">       0        </td><td style=\"text-align: center;\">       5       </td></tr>\n",
       "</tbody>\n",
       "</table>"
      ],
      "text/plain": [
       "   stage number |     name      |                  calc_mode                  |                 apply_mode                  |  has setup  |  has compute  |  has apply  |  # fixed params  |  # free params\n",
       "----------------+---------------+---------------------------------------------+---------------------------------------------+-------------+---------------+-------------+------------------+-----------------\n",
       "              0 |  csv_loader   |                   events                    |                   events                    |    True     |     False     |    True     |        0         |        0\n",
       "              1 |   honda_ip    |             \"true_allsky_fine\":             |                   events                    |    True     |     True      |    False    |        1         |        0\n",
       "                |               |    200 (true_energy) x 200 (true_coszen)    |                                             |             |               |             |                  |\n",
       "              2 |  barr_simple  |             \"true_allsky_fine\":             |                   events                    |    True     |     True      |    False    |        1         |        4\n",
       "                |               |    200 (true_energy) x 200 (true_coszen)    |                                             |             |               |             |                  |\n",
       "              3 |     prob3     |             \"true_allsky_fine\":             |                   events                    |    True     |     True      |    True     |        9         |        3\n",
       "                |               |    200 (true_energy) x 200 (true_coszen)    |                                             |             |               |             |                  |\n",
       "              4 |     aeff      |                   events                    |                   events                    |    False    |     False     |    True     |        2         |        3\n",
       "              5 |     hist      |                   events                    |            \"dragon_datarelease\":            |    True     |     False     |    True     |        0         |        0\n",
       "                |               |                                             | 8 (reco_energy) x 8 (reco_coszen) x 2 (pid) |             |               |             |                  |\n",
       "              6 | hypersurfaces |            \"dragon_datarelease\":            |            \"dragon_datarelease\":            |    True     |     True      |    True     |        0         |        5\n",
       "                |               | 8 (reco_energy) x 8 (reco_coszen) x 2 (pid) | 8 (reco_energy) x 8 (reco_coszen) x 2 (pid) |             |               |             |                  |"
      ]
     },
     "execution_count": 5,
     "metadata": {},
     "output_type": "execute_result"
    }
   ],
   "source": [
    "model.pipelines[0]"
   ]
  },
  {
   "cell_type": "markdown",
   "metadata": {},
   "source": [
    "In the following cell, \n",
    "- We are removing the `hist` stage, which converts the events into binned histograms by applying weights \n",
    "- Changing the `hypersurface` `apply_mode` to `events` from `binning mode`"
   ]
  },
  {
   "cell_type": "code",
   "execution_count": 6,
   "metadata": {},
   "outputs": [],
   "source": [
    "for pipeline in model.pipelines:\n",
    "    \n",
    "    analysis_binning = pipeline.output_binning\n",
    "    \n",
    "    for i, stage in enumerate(pipeline._stages) :\n",
    "            if stage.service_name in [ \"hist\"] :\n",
    "                pipeline._stages.pop(i)\n",
    "                break\n",
    "          \n",
    "    for stage in pipeline._stages :\n",
    "            if stage.service_name == 'hypersurfaces' :\n",
    "                stage.apply_mode = \"events\"\n",
    "\n",
    "    return_items = [ model, analysis_binning ]    "
   ]
  },
  {
   "cell_type": "markdown",
   "metadata": {},
   "source": [
    "`stages` after modification"
   ]
  },
  {
   "cell_type": "code",
   "execution_count": 10,
   "metadata": {},
   "outputs": [
    {
     "data": {
      "text/html": [
       "<table>\n",
       "<thead>\n",
       "<tr><th style=\"text-align: right;\">  stage number</th><th style=\"text-align: center;\">    name     </th><th style=\"text-align: center;\"> calc_mode </th><th style=\"text-align: center;\"> apply_mode </th><th style=\"text-align: center;\"> has setup </th><th style=\"text-align: center;\"> has compute </th><th style=\"text-align: center;\"> has apply </th><th style=\"text-align: center;\"> # fixed params </th><th style=\"text-align: center;\"> # free params </th></tr>\n",
       "</thead>\n",
       "<tbody>\n",
       "<tr><td style=\"text-align: right;\">             0</td><td style=\"text-align: center;\"> csv_loader  </td><td style=\"text-align: center;\">  events   </td><td style=\"text-align: center;\">   events   </td><td style=\"text-align: center;\">   True    </td><td style=\"text-align: center;\">    False    </td><td style=\"text-align: center;\">   True    </td><td style=\"text-align: center;\">       0        </td><td style=\"text-align: center;\">       0       </td></tr>\n",
       "<tr><td style=\"text-align: right;\">             1</td><td style=\"text-align: center;\">  honda_ip   </td><td style=\"text-align: center;\">      &quot;true_allsky_fine&quot;:\n",
       "200 (true_energy) x 200 (true_coszen)      </td><td style=\"text-align: center;\">   events   </td><td style=\"text-align: center;\">   True    </td><td style=\"text-align: center;\">    True     </td><td style=\"text-align: center;\">   False   </td><td style=\"text-align: center;\">       1        </td><td style=\"text-align: center;\">       0       </td></tr>\n",
       "<tr><td style=\"text-align: right;\">             2</td><td style=\"text-align: center;\"> barr_simple </td><td style=\"text-align: center;\">      &quot;true_allsky_fine&quot;:\n",
       "200 (true_energy) x 200 (true_coszen)      </td><td style=\"text-align: center;\">   events   </td><td style=\"text-align: center;\">   True    </td><td style=\"text-align: center;\">    True     </td><td style=\"text-align: center;\">   False   </td><td style=\"text-align: center;\">       1        </td><td style=\"text-align: center;\">       4       </td></tr>\n",
       "<tr><td style=\"text-align: right;\">             3</td><td style=\"text-align: center;\">    prob3    </td><td style=\"text-align: center;\">      &quot;true_allsky_fine&quot;:\n",
       "200 (true_energy) x 200 (true_coszen)      </td><td style=\"text-align: center;\">   events   </td><td style=\"text-align: center;\">   True    </td><td style=\"text-align: center;\">    True     </td><td style=\"text-align: center;\">   True    </td><td style=\"text-align: center;\">       9        </td><td style=\"text-align: center;\">       3       </td></tr>\n",
       "<tr><td style=\"text-align: right;\">             4</td><td style=\"text-align: center;\">    aeff     </td><td style=\"text-align: center;\">  events   </td><td style=\"text-align: center;\">   events   </td><td style=\"text-align: center;\">   False   </td><td style=\"text-align: center;\">    False    </td><td style=\"text-align: center;\">   True    </td><td style=\"text-align: center;\">       2        </td><td style=\"text-align: center;\">       3       </td></tr>\n",
       "<tr><td style=\"text-align: right;\">             5</td><td style=\"text-align: center;\">hypersurfaces</td><td style=\"text-align: center;\">      &quot;dragon_datarelease&quot;:\n",
       "8 (reco_energy) x 8 (reco_coszen) x 2 (pid)      </td><td style=\"text-align: center;\">   events   </td><td style=\"text-align: center;\">   True    </td><td style=\"text-align: center;\">    True     </td><td style=\"text-align: center;\">   True    </td><td style=\"text-align: center;\">       0        </td><td style=\"text-align: center;\">       5       </td></tr>\n",
       "</tbody>\n",
       "</table>"
      ],
      "text/plain": [
       "   stage number |     name      |                  calc_mode                  |  apply_mode  |  has setup  |  has compute  |  has apply  |  # fixed params  |  # free params\n",
       "----------------+---------------+---------------------------------------------+--------------+-------------+---------------+-------------+------------------+-----------------\n",
       "              0 |  csv_loader   |                   events                    |    events    |    True     |     False     |    True     |        0         |        0\n",
       "              1 |   honda_ip    |             \"true_allsky_fine\":             |    events    |    True     |     True      |    False    |        1         |        0\n",
       "                |               |    200 (true_energy) x 200 (true_coszen)    |              |             |               |             |                  |\n",
       "              2 |  barr_simple  |             \"true_allsky_fine\":             |    events    |    True     |     True      |    False    |        1         |        4\n",
       "                |               |    200 (true_energy) x 200 (true_coszen)    |              |             |               |             |                  |\n",
       "              3 |     prob3     |             \"true_allsky_fine\":             |    events    |    True     |     True      |    True     |        9         |        3\n",
       "                |               |    200 (true_energy) x 200 (true_coszen)    |              |             |               |             |                  |\n",
       "              4 |     aeff      |                   events                    |    events    |    False    |     False     |    True     |        2         |        3\n",
       "              5 | hypersurfaces |            \"dragon_datarelease\":            |    events    |    True     |     True      |    True     |        0         |        5\n",
       "                |               | 8 (reco_energy) x 8 (reco_coszen) x 2 (pid) |              |             |               |             |                  |"
      ]
     },
     "execution_count": 10,
     "metadata": {},
     "output_type": "execute_result"
    }
   ],
   "source": [
    "model.pipelines[0]"
   ]
  },
  {
   "cell_type": "markdown",
   "metadata": {},
   "source": [
    "Run the model to process the updated changes"
   ]
  },
  {
   "cell_type": "code",
   "execution_count": 7,
   "metadata": {},
   "outputs": [],
   "source": [
    "model.run()"
   ]
  },
  {
   "cell_type": "markdown",
   "metadata": {},
   "source": [
    "Output ContainerSet contains the eventwise information of 'nue_cc', 'numu_cc', 'nutau_cc', 'nue_nc', 'numu_nc', 'nutau_nc', 'nuebar_cc', 'numubar_cc', 'nutaubar_cc', 'nuebar_nc', 'numubar_nc', 'nutaubar_nc'"
   ]
  },
  {
   "cell_type": "code",
   "execution_count": 12,
   "metadata": {},
   "outputs": [
    {
     "data": {
      "text/plain": [
       "ContainerSet containing ['nue_cc', 'numu_cc', 'nutau_cc', 'nue_nc', 'numu_nc', 'nutau_nc', 'nuebar_cc', 'numubar_cc', 'nutaubar_cc', 'nuebar_nc', 'numubar_nc', 'nutaubar_nc']"
      ]
     },
     "execution_count": 12,
     "metadata": {},
     "output_type": "execute_result"
    }
   ],
   "source": [
    "model.pipelines[0].data"
   ]
  },
  {
   "cell_type": "code",
   "execution_count": 13,
   "metadata": {},
   "outputs": [],
   "source": [
    "templates = []\n",
    "for p in model.pipelines:\n",
    "    templates.append(p.data)"
   ]
  },
  {
   "cell_type": "markdown",
   "metadata": {},
   "source": [
    "List of variables that we are interested"
   ]
  },
  {
   "cell_type": "code",
   "execution_count": 14,
   "metadata": {},
   "outputs": [],
   "source": [
    "nu_variables = ['true_energy', 'true_coszen', 'weighted_aeff', 'reco_energy', 'reco_coszen', 'pid', 'weights', 'initial_weights']"
   ]
  },
  {
   "cell_type": "markdown",
   "metadata": {},
   "source": [
    "In the following cell we are combining all the neutral current events under the key `nu_nc`, also we are combining neutrino and anti-neutrino events together in a dictionary named `events`"
   ]
  },
  {
   "cell_type": "code",
   "execution_count": 15,
   "metadata": {},
   "outputs": [],
   "source": [
    "events = collections.OrderedDict()\n",
    "events[\"nu_nc\"]=collections.OrderedDict()\n",
    "events[\"nue_cc\"]=collections.OrderedDict()\n",
    "events[\"numu_cc\"]=collections.OrderedDict()\n",
    "events[\"nutau_cc\"]=collections.OrderedDict()\n",
    "\n",
    "for container_set in templates:    \n",
    "    for container in container_set:\n",
    "        \n",
    "        key_name = container.name\n",
    "        \n",
    "        if \"nue\" in key_name and \"nc\" not in key_name:\n",
    "            for key in nu_variables:\n",
    "\n",
    "                if key not in events['nue_cc'].keys():\n",
    "                    events[\"nue_cc\"][key] = container[key]\n",
    "                else:\n",
    "                    events[\"nue_cc\"][key] = np.append(events[\"nue_cc\"][key], container[key])\n",
    "\n",
    "        elif \"numu\" in key_name and \"nc\" not in key_name:\n",
    "            for key in nu_variables:\n",
    "\n",
    "                if key not in events['numu_cc'].keys():\n",
    "                    events[\"numu_cc\"][key] = container[key]\n",
    "                else:\n",
    "                    events[\"numu_cc\"][key] = np.append(events[\"numu_cc\"][key], container[key])\n",
    "                    \n",
    "                    \n",
    "        elif \"nutau\" in key_name and \"nc\" not in key_name:\n",
    "            for key in nu_variables:\n",
    "\n",
    "                if key not in events['nutau_cc'].keys():\n",
    "                    events[\"nutau_cc\"][key] = container[key]\n",
    "                else:\n",
    "                    events[\"nutau_cc\"][key] = np.append(events[\"nutau_cc\"][key], container[key])\n",
    "        \n",
    "        elif \"_nc\" in key_name:\n",
    "            for key in nu_variables:\n",
    "\n",
    "                if key not in events['nu_nc'].keys():\n",
    "                    events[\"nu_nc\"][key] = container[key]\n",
    "                else:\n",
    "                    events[\"nu_nc\"][key] = np.append(events[\"nu_nc\"][key], container[key])\n"
   ]
  },
  {
   "cell_type": "markdown",
   "metadata": {},
   "source": [
    "Following celles demonstrates the example plots (True and Reconstructed energy distribution of neutrinos)"
   ]
  },
  {
   "cell_type": "code",
   "execution_count": 36,
   "metadata": {},
   "outputs": [
    {
     "data": {
      "image/png": "[encoded data removed]",
      "text/plain": [
       "<Figure size 640x480 with 1 Axes>"
      ]
     },
     "metadata": {},
     "output_type": "display_data"
    }
   ],
   "source": [
    "energy_bin = return_items[1].dimensions[0].bin_edges.m\n",
    "\n",
    "for particle_key in events.keys():\n",
    "        plt.hist(events[particle_key]['true_energy'], bins = energy_bin, histtype='step',label = particle_key, linewidth=2, alpha=1, stacked=True)\n",
    "plt.legend()\n",
    "plt.xlabel(r'$E_{true}$ [GeV]')\n",
    "plt.xscale(\"log\")\n",
    "plt.show()"
   ]
  },
  {
   "cell_type": "code",
   "execution_count": 37,
   "metadata": {},
   "outputs": [
    {
     "data": {
      "image/png": "[encoded data removed]",
      "text/plain": [
       "<Figure size 640x480 with 1 Axes>"
      ]
     },
     "metadata": {},
     "output_type": "display_data"
    }
   ],
   "source": [
    "energy_bin = return_items[1].dimensions[0].bin_edges.m\n",
    "\n",
    "for particle_key in events.keys():\n",
    "        plt.hist(events[particle_key]['reco_energy'], bins = energy_bin, histtype='step', label = particle_key, linewidth=2, alpha=1, stacked=True)\n",
    "\n",
    "plt.legend()\n",
    "plt.xlabel(r'$E_{reco}$ [GeV]')\n",
    "plt.xscale(\"log\")\n",
    "plt.show()"
   ]
  }
 ],
 "metadata": {
  "kernelspec": {
   "display_name": "Python 3 (ipykernel)",
   "language": "python",
   "name": "python3"
  },
  "language_info": {
   "codemirror_mode": {
    "name": "ipython",
    "version": 3
   },
   "file_extension": ".py",
   "mimetype": "text/x-python",
   "name": "python",
   "nbconvert_exporter": "python",
   "pygments_lexer": "ipython3",
   "version": "3.10.13"
  }
 },
 "nbformat": 4,
 "nbformat_minor": 2
}
